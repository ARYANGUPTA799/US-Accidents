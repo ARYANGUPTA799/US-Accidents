{
  "cells": [
    {
      "cell_type": "markdown",
      "metadata": {
        "id": "view-in-github",
        "colab_type": "text"
      },
      "source": [
        "<a href=\"https://colab.research.google.com/github/ARYANGUPTA799/US-Accidents/blob/main/us.ipynb\" target=\"_parent\"><img src=\"https://colab.research.google.com/assets/colab-badge.svg\" alt=\"Open In Colab\"/></a>"
      ]
    },
    {
      "cell_type": "code",
      "execution_count": null,
      "metadata": {
        "colab": {
          "base_uri": "https://localhost:8080/"
        },
        "id": "vYk1yWZ7HLFl",
        "outputId": "9b30401c-d628-4ba3-817f-bf7a2bcaf4c8"
      },
      "outputs": [
        {
          "output_type": "stream",
          "name": "stdout",
          "text": [
            "\u001b[?25l\r\u001b[K     |████▊                           | 10 kB 28.2 MB/s eta 0:00:01\r\u001b[K     |█████████▌                      | 20 kB 35.7 MB/s eta 0:00:01\r\u001b[K     |██████████████▎                 | 30 kB 41.6 MB/s eta 0:00:01\r\u001b[K     |███████████████████             | 40 kB 16.5 MB/s eta 0:00:01\r\u001b[K     |███████████████████████▉        | 51 kB 13.4 MB/s eta 0:00:01\r\u001b[K     |████████████████████████████▋   | 61 kB 15.1 MB/s eta 0:00:01\r\u001b[K     |████████████████████████████████| 68 kB 5.7 MB/s \n",
            "\u001b[?25h  Building wheel for uuid (setup.py) ... \u001b[?25l\u001b[?25hdone\n"
          ]
        }
      ],
      "source": [
        "# Jovian Commit Essentials\n",
        "# Please retain and execute this cell without modifying the contents for `jovian.commit` to work\n",
        "!pip install jovian --upgrade -q\n",
        "import jovian\n",
        "jovian.set_project('us')\n",
        "jovian.set_colab_id('1rJOxtwKuBO77dl6TZ7A96WmXtmI34NVk')"
      ]
    },
    {
      "cell_type": "markdown",
      "metadata": {
        "id": "E5NkJVKfHLFq"
      },
      "source": [
        "**US Accident Exploratory data analysis**\n",
        " - TODO- Talk about EDA\n",
        " - TODO-talk about the dataset(source,what it contains,how it will be useful)\n",
        "\n",
        "*   Kaggle\n",
        "*   information about accidents\n",
        "*   can use useful to prevent accidents\n",
        "*   mention that this does not contain data about New York\n",
        "\n",
        "\n",
        "\n",
        "\n",
        "\n",
        "\n"
      ]
    },
    {
      "cell_type": "code",
      "source": [
        "pip install opendatasets --upgrade --quiet "
      ],
      "metadata": {
        "id": "npshCm7cI9c5"
      },
      "execution_count": null,
      "outputs": []
    },
    {
      "cell_type": "markdown",
      "source": [
        "##Dowload the data"
      ],
      "metadata": {
        "id": "5lhlCMvCIqlQ"
      }
    },
    {
      "cell_type": "code",
      "source": [
        "import opendatasets as od\n",
        "\n",
        "download_url ='https://www.kaggle.com/datasets/sobhanmoosavi/us-accidents'\n",
        "\n",
        "od.download(download_url)"
      ],
      "metadata": {
        "colab": {
          "base_uri": "https://localhost:8080/"
        },
        "id": "cxRH_4HoIdBv",
        "outputId": "eec7973e-b72e-4d01-9665-8b39b75249da"
      },
      "execution_count": null,
      "outputs": [
        {
          "output_type": "stream",
          "name": "stdout",
          "text": [
            "Please provide your Kaggle credentials to download this dataset. Learn more: http://bit.ly/kaggle-creds\n",
            "Your Kaggle username: aryangupta08\n",
            "Your Kaggle Key: ··········\n",
            "Downloading us-accidents.zip to ./us-accidents\n"
          ]
        },
        {
          "output_type": "stream",
          "name": "stderr",
          "text": [
            "100%|██████████| 269M/269M [00:01<00:00, 151MB/s]"
          ]
        },
        {
          "output_type": "stream",
          "name": "stdout",
          "text": [
            "\n"
          ]
        },
        {
          "output_type": "stream",
          "name": "stderr",
          "text": [
            "\n"
          ]
        }
      ]
    },
    {
      "cell_type": "code",
      "source": [
        "data_filename = '/content/us-accidents/US_Accidents_Dec21_updated.csv'"
      ],
      "metadata": {
        "id": "7PU2Kq2EPGnN"
      },
      "execution_count": null,
      "outputs": []
    },
    {
      "cell_type": "markdown",
      "source": [
        "## Data preparation and cleaning\n",
        "\n",
        "1.Load the fileusing Panads\n",
        "\n",
        "2.LOok at some information about the data & the columns\n",
        "\n",
        "3.Fix any missing or incorrect values\n",
        "\n",
        " "
      ],
      "metadata": {
        "id": "QVshfdt-JIF7"
      }
    },
    {
      "cell_type": "code",
      "source": [
        "import pandas as pd "
      ],
      "metadata": {
        "id": "xArhE83iRBuH"
      },
      "execution_count": null,
      "outputs": []
    },
    {
      "cell_type": "code",
      "source": [
        "df = pd.read_csv(data_filename)"
      ],
      "metadata": {
        "id": "3wkdmNU2RJNC"
      },
      "execution_count": null,
      "outputs": []
    },
    {
      "cell_type": "code",
      "source": [
        "df"
      ],
      "metadata": {
        "colab": {
          "base_uri": "https://localhost:8080/",
          "height": 939
        },
        "id": "CQ1pJ86lTZax",
        "outputId": "68e5e77c-3626-405a-a8c6-504d31286b62"
      },
      "execution_count": null,
      "outputs": [
        {
          "output_type": "execute_result",
          "data": {
            "text/plain": [
              "                ID  Severity           Start_Time             End_Time  \\\n",
              "0              A-1         3  2016-02-08 00:37:08  2016-02-08 06:37:08   \n",
              "1              A-2         2  2016-02-08 05:56:20  2016-02-08 11:56:20   \n",
              "2              A-3         2  2016-02-08 06:15:39  2016-02-08 12:15:39   \n",
              "3              A-4         2  2016-02-08 06:51:45  2016-02-08 12:51:45   \n",
              "4              A-5         3  2016-02-08 07:53:43  2016-02-08 13:53:43   \n",
              "...            ...       ...                  ...                  ...   \n",
              "2845337  A-2845338         2  2019-08-23 18:03:25  2019-08-23 18:32:01   \n",
              "2845338  A-2845339         2  2019-08-23 19:11:30  2019-08-23 19:38:23   \n",
              "2845339  A-2845340         2  2019-08-23 19:00:21  2019-08-23 19:28:49   \n",
              "2845340  A-2845341         2  2019-08-23 19:00:21  2019-08-23 19:29:42   \n",
              "2845341  A-2845342         2  2019-08-23 18:52:06  2019-08-23 19:21:31   \n",
              "\n",
              "         Start_Lat   Start_Lng    End_Lat     End_Lng  Distance(mi)  \\\n",
              "0        40.108910  -83.092860  40.112060  -83.031870         3.230   \n",
              "1        39.865420  -84.062800  39.865010  -84.048730         0.747   \n",
              "2        39.102660  -84.524680  39.102090  -84.523960         0.055   \n",
              "3        41.062130  -81.537840  41.062170  -81.535470         0.123   \n",
              "4        39.172393  -84.492792  39.170476  -84.501798         0.500   \n",
              "...            ...         ...        ...         ...           ...   \n",
              "2845337  34.002480 -117.379360  33.998880 -117.370940         0.543   \n",
              "2845338  32.766960 -117.148060  32.765550 -117.153630         0.338   \n",
              "2845339  33.775450 -117.847790  33.777400 -117.857270         0.561   \n",
              "2845340  33.992460 -118.403020  33.983110 -118.395650         0.772   \n",
              "2845341  34.133930 -117.230920  34.137360 -117.239340         0.537   \n",
              "\n",
              "                                               Description  ...  Roundabout  \\\n",
              "0        Between Sawmill Rd/Exit 20 and OH-315/Olentang...  ...       False   \n",
              "1                       At OH-4/OH-235/Exit 41 - Accident.  ...       False   \n",
              "2                         At I-71/US-50/Exit 1 - Accident.  ...       False   \n",
              "3                          At Dart Ave/Exit 21 - Accident.  ...       False   \n",
              "4                       At Mitchell Ave/Exit 6 - Accident.  ...       False   \n",
              "...                                                    ...  ...         ...   \n",
              "2845337                           At Market St - Accident.  ...       False   \n",
              "2845338    At Camino Del Rio/Mission Center Rd - Accident.  ...       False   \n",
              "2845339  At Glassell St/Grand Ave - Accident. in the ri...  ...       False   \n",
              "2845340     At CA-90/Marina Fwy/Jefferson Blvd - Accident.  ...       False   \n",
              "2845341              At Highland Ave/Arden Ave - Accident.  ...       False   \n",
              "\n",
              "        Station   Stop Traffic_Calming Traffic_Signal Turning_Loop  \\\n",
              "0         False  False           False          False        False   \n",
              "1         False  False           False          False        False   \n",
              "2         False  False           False          False        False   \n",
              "3         False  False           False          False        False   \n",
              "4         False  False           False          False        False   \n",
              "...         ...    ...             ...            ...          ...   \n",
              "2845337   False  False           False          False        False   \n",
              "2845338   False  False           False          False        False   \n",
              "2845339   False  False           False          False        False   \n",
              "2845340   False  False           False          False        False   \n",
              "2845341   False  False           False          False        False   \n",
              "\n",
              "        Sunrise_Sunset Civil_Twilight Nautical_Twilight Astronomical_Twilight  \n",
              "0                Night          Night             Night                 Night  \n",
              "1                Night          Night             Night                 Night  \n",
              "2                Night          Night             Night                   Day  \n",
              "3                Night          Night               Day                   Day  \n",
              "4                  Day            Day               Day                   Day  \n",
              "...                ...            ...               ...                   ...  \n",
              "2845337            Day            Day               Day                   Day  \n",
              "2845338            Day            Day               Day                   Day  \n",
              "2845339            Day            Day               Day                   Day  \n",
              "2845340            Day            Day               Day                   Day  \n",
              "2845341            Day            Day               Day                   Day  \n",
              "\n",
              "[2845342 rows x 47 columns]"
            ],
            "text/html": [
              "\n",
              "  <div id=\"df-33d1ae21-52e5-455c-b4bb-12125b65951d\">\n",
              "    <div class=\"colab-df-container\">\n",
              "      <div>\n",
              "<style scoped>\n",
              "    .dataframe tbody tr th:only-of-type {\n",
              "        vertical-align: middle;\n",
              "    }\n",
              "\n",
              "    .dataframe tbody tr th {\n",
              "        vertical-align: top;\n",
              "    }\n",
              "\n",
              "    .dataframe thead th {\n",
              "        text-align: right;\n",
              "    }\n",
              "</style>\n",
              "<table border=\"1\" class=\"dataframe\">\n",
              "  <thead>\n",
              "    <tr style=\"text-align: right;\">\n",
              "      <th></th>\n",
              "      <th>ID</th>\n",
              "      <th>Severity</th>\n",
              "      <th>Start_Time</th>\n",
              "      <th>End_Time</th>\n",
              "      <th>Start_Lat</th>\n",
              "      <th>Start_Lng</th>\n",
              "      <th>End_Lat</th>\n",
              "      <th>End_Lng</th>\n",
              "      <th>Distance(mi)</th>\n",
              "      <th>Description</th>\n",
              "      <th>...</th>\n",
              "      <th>Roundabout</th>\n",
              "      <th>Station</th>\n",
              "      <th>Stop</th>\n",
              "      <th>Traffic_Calming</th>\n",
              "      <th>Traffic_Signal</th>\n",
              "      <th>Turning_Loop</th>\n",
              "      <th>Sunrise_Sunset</th>\n",
              "      <th>Civil_Twilight</th>\n",
              "      <th>Nautical_Twilight</th>\n",
              "      <th>Astronomical_Twilight</th>\n",
              "    </tr>\n",
              "  </thead>\n",
              "  <tbody>\n",
              "    <tr>\n",
              "      <th>0</th>\n",
              "      <td>A-1</td>\n",
              "      <td>3</td>\n",
              "      <td>2016-02-08 00:37:08</td>\n",
              "      <td>2016-02-08 06:37:08</td>\n",
              "      <td>40.108910</td>\n",
              "      <td>-83.092860</td>\n",
              "      <td>40.112060</td>\n",
              "      <td>-83.031870</td>\n",
              "      <td>3.230</td>\n",
              "      <td>Between Sawmill Rd/Exit 20 and OH-315/Olentang...</td>\n",
              "      <td>...</td>\n",
              "      <td>False</td>\n",
              "      <td>False</td>\n",
              "      <td>False</td>\n",
              "      <td>False</td>\n",
              "      <td>False</td>\n",
              "      <td>False</td>\n",
              "      <td>Night</td>\n",
              "      <td>Night</td>\n",
              "      <td>Night</td>\n",
              "      <td>Night</td>\n",
              "    </tr>\n",
              "    <tr>\n",
              "      <th>1</th>\n",
              "      <td>A-2</td>\n",
              "      <td>2</td>\n",
              "      <td>2016-02-08 05:56:20</td>\n",
              "      <td>2016-02-08 11:56:20</td>\n",
              "      <td>39.865420</td>\n",
              "      <td>-84.062800</td>\n",
              "      <td>39.865010</td>\n",
              "      <td>-84.048730</td>\n",
              "      <td>0.747</td>\n",
              "      <td>At OH-4/OH-235/Exit 41 - Accident.</td>\n",
              "      <td>...</td>\n",
              "      <td>False</td>\n",
              "      <td>False</td>\n",
              "      <td>False</td>\n",
              "      <td>False</td>\n",
              "      <td>False</td>\n",
              "      <td>False</td>\n",
              "      <td>Night</td>\n",
              "      <td>Night</td>\n",
              "      <td>Night</td>\n",
              "      <td>Night</td>\n",
              "    </tr>\n",
              "    <tr>\n",
              "      <th>2</th>\n",
              "      <td>A-3</td>\n",
              "      <td>2</td>\n",
              "      <td>2016-02-08 06:15:39</td>\n",
              "      <td>2016-02-08 12:15:39</td>\n",
              "      <td>39.102660</td>\n",
              "      <td>-84.524680</td>\n",
              "      <td>39.102090</td>\n",
              "      <td>-84.523960</td>\n",
              "      <td>0.055</td>\n",
              "      <td>At I-71/US-50/Exit 1 - Accident.</td>\n",
              "      <td>...</td>\n",
              "      <td>False</td>\n",
              "      <td>False</td>\n",
              "      <td>False</td>\n",
              "      <td>False</td>\n",
              "      <td>False</td>\n",
              "      <td>False</td>\n",
              "      <td>Night</td>\n",
              "      <td>Night</td>\n",
              "      <td>Night</td>\n",
              "      <td>Day</td>\n",
              "    </tr>\n",
              "    <tr>\n",
              "      <th>3</th>\n",
              "      <td>A-4</td>\n",
              "      <td>2</td>\n",
              "      <td>2016-02-08 06:51:45</td>\n",
              "      <td>2016-02-08 12:51:45</td>\n",
              "      <td>41.062130</td>\n",
              "      <td>-81.537840</td>\n",
              "      <td>41.062170</td>\n",
              "      <td>-81.535470</td>\n",
              "      <td>0.123</td>\n",
              "      <td>At Dart Ave/Exit 21 - Accident.</td>\n",
              "      <td>...</td>\n",
              "      <td>False</td>\n",
              "      <td>False</td>\n",
              "      <td>False</td>\n",
              "      <td>False</td>\n",
              "      <td>False</td>\n",
              "      <td>False</td>\n",
              "      <td>Night</td>\n",
              "      <td>Night</td>\n",
              "      <td>Day</td>\n",
              "      <td>Day</td>\n",
              "    </tr>\n",
              "    <tr>\n",
              "      <th>4</th>\n",
              "      <td>A-5</td>\n",
              "      <td>3</td>\n",
              "      <td>2016-02-08 07:53:43</td>\n",
              "      <td>2016-02-08 13:53:43</td>\n",
              "      <td>39.172393</td>\n",
              "      <td>-84.492792</td>\n",
              "      <td>39.170476</td>\n",
              "      <td>-84.501798</td>\n",
              "      <td>0.500</td>\n",
              "      <td>At Mitchell Ave/Exit 6 - Accident.</td>\n",
              "      <td>...</td>\n",
              "      <td>False</td>\n",
              "      <td>False</td>\n",
              "      <td>False</td>\n",
              "      <td>False</td>\n",
              "      <td>False</td>\n",
              "      <td>False</td>\n",
              "      <td>Day</td>\n",
              "      <td>Day</td>\n",
              "      <td>Day</td>\n",
              "      <td>Day</td>\n",
              "    </tr>\n",
              "    <tr>\n",
              "      <th>...</th>\n",
              "      <td>...</td>\n",
              "      <td>...</td>\n",
              "      <td>...</td>\n",
              "      <td>...</td>\n",
              "      <td>...</td>\n",
              "      <td>...</td>\n",
              "      <td>...</td>\n",
              "      <td>...</td>\n",
              "      <td>...</td>\n",
              "      <td>...</td>\n",
              "      <td>...</td>\n",
              "      <td>...</td>\n",
              "      <td>...</td>\n",
              "      <td>...</td>\n",
              "      <td>...</td>\n",
              "      <td>...</td>\n",
              "      <td>...</td>\n",
              "      <td>...</td>\n",
              "      <td>...</td>\n",
              "      <td>...</td>\n",
              "      <td>...</td>\n",
              "    </tr>\n",
              "    <tr>\n",
              "      <th>2845337</th>\n",
              "      <td>A-2845338</td>\n",
              "      <td>2</td>\n",
              "      <td>2019-08-23 18:03:25</td>\n",
              "      <td>2019-08-23 18:32:01</td>\n",
              "      <td>34.002480</td>\n",
              "      <td>-117.379360</td>\n",
              "      <td>33.998880</td>\n",
              "      <td>-117.370940</td>\n",
              "      <td>0.543</td>\n",
              "      <td>At Market St - Accident.</td>\n",
              "      <td>...</td>\n",
              "      <td>False</td>\n",
              "      <td>False</td>\n",
              "      <td>False</td>\n",
              "      <td>False</td>\n",
              "      <td>False</td>\n",
              "      <td>False</td>\n",
              "      <td>Day</td>\n",
              "      <td>Day</td>\n",
              "      <td>Day</td>\n",
              "      <td>Day</td>\n",
              "    </tr>\n",
              "    <tr>\n",
              "      <th>2845338</th>\n",
              "      <td>A-2845339</td>\n",
              "      <td>2</td>\n",
              "      <td>2019-08-23 19:11:30</td>\n",
              "      <td>2019-08-23 19:38:23</td>\n",
              "      <td>32.766960</td>\n",
              "      <td>-117.148060</td>\n",
              "      <td>32.765550</td>\n",
              "      <td>-117.153630</td>\n",
              "      <td>0.338</td>\n",
              "      <td>At Camino Del Rio/Mission Center Rd - Accident.</td>\n",
              "      <td>...</td>\n",
              "      <td>False</td>\n",
              "      <td>False</td>\n",
              "      <td>False</td>\n",
              "      <td>False</td>\n",
              "      <td>False</td>\n",
              "      <td>False</td>\n",
              "      <td>Day</td>\n",
              "      <td>Day</td>\n",
              "      <td>Day</td>\n",
              "      <td>Day</td>\n",
              "    </tr>\n",
              "    <tr>\n",
              "      <th>2845339</th>\n",
              "      <td>A-2845340</td>\n",
              "      <td>2</td>\n",
              "      <td>2019-08-23 19:00:21</td>\n",
              "      <td>2019-08-23 19:28:49</td>\n",
              "      <td>33.775450</td>\n",
              "      <td>-117.847790</td>\n",
              "      <td>33.777400</td>\n",
              "      <td>-117.857270</td>\n",
              "      <td>0.561</td>\n",
              "      <td>At Glassell St/Grand Ave - Accident. in the ri...</td>\n",
              "      <td>...</td>\n",
              "      <td>False</td>\n",
              "      <td>False</td>\n",
              "      <td>False</td>\n",
              "      <td>False</td>\n",
              "      <td>False</td>\n",
              "      <td>False</td>\n",
              "      <td>Day</td>\n",
              "      <td>Day</td>\n",
              "      <td>Day</td>\n",
              "      <td>Day</td>\n",
              "    </tr>\n",
              "    <tr>\n",
              "      <th>2845340</th>\n",
              "      <td>A-2845341</td>\n",
              "      <td>2</td>\n",
              "      <td>2019-08-23 19:00:21</td>\n",
              "      <td>2019-08-23 19:29:42</td>\n",
              "      <td>33.992460</td>\n",
              "      <td>-118.403020</td>\n",
              "      <td>33.983110</td>\n",
              "      <td>-118.395650</td>\n",
              "      <td>0.772</td>\n",
              "      <td>At CA-90/Marina Fwy/Jefferson Blvd - Accident.</td>\n",
              "      <td>...</td>\n",
              "      <td>False</td>\n",
              "      <td>False</td>\n",
              "      <td>False</td>\n",
              "      <td>False</td>\n",
              "      <td>False</td>\n",
              "      <td>False</td>\n",
              "      <td>Day</td>\n",
              "      <td>Day</td>\n",
              "      <td>Day</td>\n",
              "      <td>Day</td>\n",
              "    </tr>\n",
              "    <tr>\n",
              "      <th>2845341</th>\n",
              "      <td>A-2845342</td>\n",
              "      <td>2</td>\n",
              "      <td>2019-08-23 18:52:06</td>\n",
              "      <td>2019-08-23 19:21:31</td>\n",
              "      <td>34.133930</td>\n",
              "      <td>-117.230920</td>\n",
              "      <td>34.137360</td>\n",
              "      <td>-117.239340</td>\n",
              "      <td>0.537</td>\n",
              "      <td>At Highland Ave/Arden Ave - Accident.</td>\n",
              "      <td>...</td>\n",
              "      <td>False</td>\n",
              "      <td>False</td>\n",
              "      <td>False</td>\n",
              "      <td>False</td>\n",
              "      <td>False</td>\n",
              "      <td>False</td>\n",
              "      <td>Day</td>\n",
              "      <td>Day</td>\n",
              "      <td>Day</td>\n",
              "      <td>Day</td>\n",
              "    </tr>\n",
              "  </tbody>\n",
              "</table>\n",
              "<p>2845342 rows × 47 columns</p>\n",
              "</div>\n",
              "      <button class=\"colab-df-convert\" onclick=\"convertToInteractive('df-33d1ae21-52e5-455c-b4bb-12125b65951d')\"\n",
              "              title=\"Convert this dataframe to an interactive table.\"\n",
              "              style=\"display:none;\">\n",
              "        \n",
              "  <svg xmlns=\"http://www.w3.org/2000/svg\" height=\"24px\"viewBox=\"0 0 24 24\"\n",
              "       width=\"24px\">\n",
              "    <path d=\"M0 0h24v24H0V0z\" fill=\"none\"/>\n",
              "    <path d=\"M18.56 5.44l.94 2.06.94-2.06 2.06-.94-2.06-.94-.94-2.06-.94 2.06-2.06.94zm-11 1L8.5 8.5l.94-2.06 2.06-.94-2.06-.94L8.5 2.5l-.94 2.06-2.06.94zm10 10l.94 2.06.94-2.06 2.06-.94-2.06-.94-.94-2.06-.94 2.06-2.06.94z\"/><path d=\"M17.41 7.96l-1.37-1.37c-.4-.4-.92-.59-1.43-.59-.52 0-1.04.2-1.43.59L10.3 9.45l-7.72 7.72c-.78.78-.78 2.05 0 2.83L4 21.41c.39.39.9.59 1.41.59.51 0 1.02-.2 1.41-.59l7.78-7.78 2.81-2.81c.8-.78.8-2.07 0-2.86zM5.41 20L4 18.59l7.72-7.72 1.47 1.35L5.41 20z\"/>\n",
              "  </svg>\n",
              "      </button>\n",
              "      \n",
              "  <style>\n",
              "    .colab-df-container {\n",
              "      display:flex;\n",
              "      flex-wrap:wrap;\n",
              "      gap: 12px;\n",
              "    }\n",
              "\n",
              "    .colab-df-convert {\n",
              "      background-color: #E8F0FE;\n",
              "      border: none;\n",
              "      border-radius: 50%;\n",
              "      cursor: pointer;\n",
              "      display: none;\n",
              "      fill: #1967D2;\n",
              "      height: 32px;\n",
              "      padding: 0 0 0 0;\n",
              "      width: 32px;\n",
              "    }\n",
              "\n",
              "    .colab-df-convert:hover {\n",
              "      background-color: #E2EBFA;\n",
              "      box-shadow: 0px 1px 2px rgba(60, 64, 67, 0.3), 0px 1px 3px 1px rgba(60, 64, 67, 0.15);\n",
              "      fill: #174EA6;\n",
              "    }\n",
              "\n",
              "    [theme=dark] .colab-df-convert {\n",
              "      background-color: #3B4455;\n",
              "      fill: #D2E3FC;\n",
              "    }\n",
              "\n",
              "    [theme=dark] .colab-df-convert:hover {\n",
              "      background-color: #434B5C;\n",
              "      box-shadow: 0px 1px 3px 1px rgba(0, 0, 0, 0.15);\n",
              "      filter: drop-shadow(0px 1px 2px rgba(0, 0, 0, 0.3));\n",
              "      fill: #FFFFFF;\n",
              "    }\n",
              "  </style>\n",
              "\n",
              "      <script>\n",
              "        const buttonEl =\n",
              "          document.querySelector('#df-33d1ae21-52e5-455c-b4bb-12125b65951d button.colab-df-convert');\n",
              "        buttonEl.style.display =\n",
              "          google.colab.kernel.accessAllowed ? 'block' : 'none';\n",
              "\n",
              "        async function convertToInteractive(key) {\n",
              "          const element = document.querySelector('#df-33d1ae21-52e5-455c-b4bb-12125b65951d');\n",
              "          const dataTable =\n",
              "            await google.colab.kernel.invokeFunction('convertToInteractive',\n",
              "                                                     [key], {});\n",
              "          if (!dataTable) return;\n",
              "\n",
              "          const docLinkHtml = 'Like what you see? Visit the ' +\n",
              "            '<a target=\"_blank\" href=https://colab.research.google.com/notebooks/data_table.ipynb>data table notebook</a>'\n",
              "            + ' to learn more about interactive tables.';\n",
              "          element.innerHTML = '';\n",
              "          dataTable['output_type'] = 'display_data';\n",
              "          await google.colab.output.renderOutput(dataTable, element);\n",
              "          const docLink = document.createElement('div');\n",
              "          docLink.innerHTML = docLinkHtml;\n",
              "          element.appendChild(docLink);\n",
              "        }\n",
              "      </script>\n",
              "    </div>\n",
              "  </div>\n",
              "  "
            ]
          },
          "metadata": {},
          "execution_count": 6
        }
      ]
    },
    {
      "cell_type": "code",
      "source": [
        "len(df.columns)"
      ],
      "metadata": {
        "colab": {
          "base_uri": "https://localhost:8080/"
        },
        "id": "f-DneXItUELX",
        "outputId": "e7fe1bd3-20da-4074-9629-462502289e29"
      },
      "execution_count": null,
      "outputs": [
        {
          "output_type": "execute_result",
          "data": {
            "text/plain": [
              "47"
            ]
          },
          "metadata": {},
          "execution_count": 7
        }
      ]
    },
    {
      "cell_type": "code",
      "source": [
        "df.info()"
      ],
      "metadata": {
        "colab": {
          "base_uri": "https://localhost:8080/"
        },
        "id": "PQRuuK2FUey7",
        "outputId": "348bce1f-a48c-4bc3-fc7c-a37b4c9de146"
      },
      "execution_count": null,
      "outputs": [
        {
          "output_type": "stream",
          "name": "stdout",
          "text": [
            "<class 'pandas.core.frame.DataFrame'>\n",
            "RangeIndex: 2845342 entries, 0 to 2845341\n",
            "Data columns (total 47 columns):\n",
            " #   Column                 Dtype  \n",
            "---  ------                 -----  \n",
            " 0   ID                     object \n",
            " 1   Severity               int64  \n",
            " 2   Start_Time             object \n",
            " 3   End_Time               object \n",
            " 4   Start_Lat              float64\n",
            " 5   Start_Lng              float64\n",
            " 6   End_Lat                float64\n",
            " 7   End_Lng                float64\n",
            " 8   Distance(mi)           float64\n",
            " 9   Description            object \n",
            " 10  Number                 float64\n",
            " 11  Street                 object \n",
            " 12  Side                   object \n",
            " 13  City                   object \n",
            " 14  County                 object \n",
            " 15  State                  object \n",
            " 16  Zipcode                object \n",
            " 17  Country                object \n",
            " 18  Timezone               object \n",
            " 19  Airport_Code           object \n",
            " 20  Weather_Timestamp      object \n",
            " 21  Temperature(F)         float64\n",
            " 22  Wind_Chill(F)          float64\n",
            " 23  Humidity(%)            float64\n",
            " 24  Pressure(in)           float64\n",
            " 25  Visibility(mi)         float64\n",
            " 26  Wind_Direction         object \n",
            " 27  Wind_Speed(mph)        float64\n",
            " 28  Precipitation(in)      float64\n",
            " 29  Weather_Condition      object \n",
            " 30  Amenity                bool   \n",
            " 31  Bump                   bool   \n",
            " 32  Crossing               bool   \n",
            " 33  Give_Way               bool   \n",
            " 34  Junction               bool   \n",
            " 35  No_Exit                bool   \n",
            " 36  Railway                bool   \n",
            " 37  Roundabout             bool   \n",
            " 38  Station                bool   \n",
            " 39  Stop                   bool   \n",
            " 40  Traffic_Calming        bool   \n",
            " 41  Traffic_Signal         bool   \n",
            " 42  Turning_Loop           bool   \n",
            " 43  Sunrise_Sunset         object \n",
            " 44  Civil_Twilight         object \n",
            " 45  Nautical_Twilight      object \n",
            " 46  Astronomical_Twilight  object \n",
            "dtypes: bool(13), float64(13), int64(1), object(20)\n",
            "memory usage: 773.4+ MB\n"
          ]
        }
      ]
    },
    {
      "cell_type": "code",
      "source": [
        "df.describe()"
      ],
      "metadata": {
        "colab": {
          "base_uri": "https://localhost:8080/",
          "height": 364
        },
        "id": "f5QRbW6IUvBC",
        "outputId": "3258ba90-b67f-4f10-ad55-e683a2667263"
      },
      "execution_count": null,
      "outputs": [
        {
          "output_type": "execute_result",
          "data": {
            "text/plain": [
              "           Severity     Start_Lat     Start_Lng       End_Lat       End_Lng  \\\n",
              "count  2.845342e+06  2.845342e+06  2.845342e+06  2.845342e+06  2.845342e+06   \n",
              "mean   2.137572e+00  3.624520e+01 -9.711463e+01  3.624532e+01 -9.711439e+01   \n",
              "std    4.787216e-01  5.363797e+00  1.831782e+01  5.363873e+00  1.831763e+01   \n",
              "min    1.000000e+00  2.456603e+01 -1.245481e+02  2.456601e+01 -1.245457e+02   \n",
              "25%    2.000000e+00  3.344517e+01 -1.180331e+02  3.344628e+01 -1.180333e+02   \n",
              "50%    2.000000e+00  3.609861e+01 -9.241808e+01  3.609799e+01 -9.241772e+01   \n",
              "75%    2.000000e+00  4.016024e+01 -8.037243e+01  4.016105e+01 -8.037338e+01   \n",
              "max    4.000000e+00  4.900058e+01 -6.711317e+01  4.907500e+01 -6.710924e+01   \n",
              "\n",
              "       Distance(mi)        Number  Temperature(F)  Wind_Chill(F)  \\\n",
              "count  2.845342e+06  1.101431e+06    2.776068e+06   2.375699e+06   \n",
              "mean   7.026779e-01  8.089408e+03    6.179356e+01   5.965823e+01   \n",
              "std    1.560361e+00  1.836009e+04    1.862263e+01   2.116097e+01   \n",
              "min    0.000000e+00  0.000000e+00   -8.900000e+01  -8.900000e+01   \n",
              "25%    5.200000e-02  1.270000e+03    5.000000e+01   4.600000e+01   \n",
              "50%    2.440000e-01  4.007000e+03    6.400000e+01   6.300000e+01   \n",
              "75%    7.640000e-01  9.567000e+03    7.600000e+01   7.600000e+01   \n",
              "max    1.551860e+02  9.999997e+06    1.960000e+02   1.960000e+02   \n",
              "\n",
              "        Humidity(%)  Pressure(in)  Visibility(mi)  Wind_Speed(mph)  \\\n",
              "count  2.772250e+06  2.786142e+06    2.774796e+06     2.687398e+06   \n",
              "mean   6.436545e+01  2.947234e+01    9.099391e+00     7.395044e+00   \n",
              "std    2.287457e+01  1.045286e+00    2.717546e+00     5.527454e+00   \n",
              "min    1.000000e+00  0.000000e+00    0.000000e+00     0.000000e+00   \n",
              "25%    4.800000e+01  2.931000e+01    1.000000e+01     3.500000e+00   \n",
              "50%    6.700000e+01  2.982000e+01    1.000000e+01     7.000000e+00   \n",
              "75%    8.300000e+01  3.001000e+01    1.000000e+01     1.000000e+01   \n",
              "max    1.000000e+02  5.890000e+01    1.400000e+02     1.087000e+03   \n",
              "\n",
              "       Precipitation(in)  \n",
              "count       2.295884e+06  \n",
              "mean        7.016940e-03  \n",
              "std         9.348831e-02  \n",
              "min         0.000000e+00  \n",
              "25%         0.000000e+00  \n",
              "50%         0.000000e+00  \n",
              "75%         0.000000e+00  \n",
              "max         2.400000e+01  "
            ],
            "text/html": [
              "\n",
              "  <div id=\"df-1e6c26b6-a049-4ef0-978d-98f0ec40e39b\">\n",
              "    <div class=\"colab-df-container\">\n",
              "      <div>\n",
              "<style scoped>\n",
              "    .dataframe tbody tr th:only-of-type {\n",
              "        vertical-align: middle;\n",
              "    }\n",
              "\n",
              "    .dataframe tbody tr th {\n",
              "        vertical-align: top;\n",
              "    }\n",
              "\n",
              "    .dataframe thead th {\n",
              "        text-align: right;\n",
              "    }\n",
              "</style>\n",
              "<table border=\"1\" class=\"dataframe\">\n",
              "  <thead>\n",
              "    <tr style=\"text-align: right;\">\n",
              "      <th></th>\n",
              "      <th>Severity</th>\n",
              "      <th>Start_Lat</th>\n",
              "      <th>Start_Lng</th>\n",
              "      <th>End_Lat</th>\n",
              "      <th>End_Lng</th>\n",
              "      <th>Distance(mi)</th>\n",
              "      <th>Number</th>\n",
              "      <th>Temperature(F)</th>\n",
              "      <th>Wind_Chill(F)</th>\n",
              "      <th>Humidity(%)</th>\n",
              "      <th>Pressure(in)</th>\n",
              "      <th>Visibility(mi)</th>\n",
              "      <th>Wind_Speed(mph)</th>\n",
              "      <th>Precipitation(in)</th>\n",
              "    </tr>\n",
              "  </thead>\n",
              "  <tbody>\n",
              "    <tr>\n",
              "      <th>count</th>\n",
              "      <td>2.845342e+06</td>\n",
              "      <td>2.845342e+06</td>\n",
              "      <td>2.845342e+06</td>\n",
              "      <td>2.845342e+06</td>\n",
              "      <td>2.845342e+06</td>\n",
              "      <td>2.845342e+06</td>\n",
              "      <td>1.101431e+06</td>\n",
              "      <td>2.776068e+06</td>\n",
              "      <td>2.375699e+06</td>\n",
              "      <td>2.772250e+06</td>\n",
              "      <td>2.786142e+06</td>\n",
              "      <td>2.774796e+06</td>\n",
              "      <td>2.687398e+06</td>\n",
              "      <td>2.295884e+06</td>\n",
              "    </tr>\n",
              "    <tr>\n",
              "      <th>mean</th>\n",
              "      <td>2.137572e+00</td>\n",
              "      <td>3.624520e+01</td>\n",
              "      <td>-9.711463e+01</td>\n",
              "      <td>3.624532e+01</td>\n",
              "      <td>-9.711439e+01</td>\n",
              "      <td>7.026779e-01</td>\n",
              "      <td>8.089408e+03</td>\n",
              "      <td>6.179356e+01</td>\n",
              "      <td>5.965823e+01</td>\n",
              "      <td>6.436545e+01</td>\n",
              "      <td>2.947234e+01</td>\n",
              "      <td>9.099391e+00</td>\n",
              "      <td>7.395044e+00</td>\n",
              "      <td>7.016940e-03</td>\n",
              "    </tr>\n",
              "    <tr>\n",
              "      <th>std</th>\n",
              "      <td>4.787216e-01</td>\n",
              "      <td>5.363797e+00</td>\n",
              "      <td>1.831782e+01</td>\n",
              "      <td>5.363873e+00</td>\n",
              "      <td>1.831763e+01</td>\n",
              "      <td>1.560361e+00</td>\n",
              "      <td>1.836009e+04</td>\n",
              "      <td>1.862263e+01</td>\n",
              "      <td>2.116097e+01</td>\n",
              "      <td>2.287457e+01</td>\n",
              "      <td>1.045286e+00</td>\n",
              "      <td>2.717546e+00</td>\n",
              "      <td>5.527454e+00</td>\n",
              "      <td>9.348831e-02</td>\n",
              "    </tr>\n",
              "    <tr>\n",
              "      <th>min</th>\n",
              "      <td>1.000000e+00</td>\n",
              "      <td>2.456603e+01</td>\n",
              "      <td>-1.245481e+02</td>\n",
              "      <td>2.456601e+01</td>\n",
              "      <td>-1.245457e+02</td>\n",
              "      <td>0.000000e+00</td>\n",
              "      <td>0.000000e+00</td>\n",
              "      <td>-8.900000e+01</td>\n",
              "      <td>-8.900000e+01</td>\n",
              "      <td>1.000000e+00</td>\n",
              "      <td>0.000000e+00</td>\n",
              "      <td>0.000000e+00</td>\n",
              "      <td>0.000000e+00</td>\n",
              "      <td>0.000000e+00</td>\n",
              "    </tr>\n",
              "    <tr>\n",
              "      <th>25%</th>\n",
              "      <td>2.000000e+00</td>\n",
              "      <td>3.344517e+01</td>\n",
              "      <td>-1.180331e+02</td>\n",
              "      <td>3.344628e+01</td>\n",
              "      <td>-1.180333e+02</td>\n",
              "      <td>5.200000e-02</td>\n",
              "      <td>1.270000e+03</td>\n",
              "      <td>5.000000e+01</td>\n",
              "      <td>4.600000e+01</td>\n",
              "      <td>4.800000e+01</td>\n",
              "      <td>2.931000e+01</td>\n",
              "      <td>1.000000e+01</td>\n",
              "      <td>3.500000e+00</td>\n",
              "      <td>0.000000e+00</td>\n",
              "    </tr>\n",
              "    <tr>\n",
              "      <th>50%</th>\n",
              "      <td>2.000000e+00</td>\n",
              "      <td>3.609861e+01</td>\n",
              "      <td>-9.241808e+01</td>\n",
              "      <td>3.609799e+01</td>\n",
              "      <td>-9.241772e+01</td>\n",
              "      <td>2.440000e-01</td>\n",
              "      <td>4.007000e+03</td>\n",
              "      <td>6.400000e+01</td>\n",
              "      <td>6.300000e+01</td>\n",
              "      <td>6.700000e+01</td>\n",
              "      <td>2.982000e+01</td>\n",
              "      <td>1.000000e+01</td>\n",
              "      <td>7.000000e+00</td>\n",
              "      <td>0.000000e+00</td>\n",
              "    </tr>\n",
              "    <tr>\n",
              "      <th>75%</th>\n",
              "      <td>2.000000e+00</td>\n",
              "      <td>4.016024e+01</td>\n",
              "      <td>-8.037243e+01</td>\n",
              "      <td>4.016105e+01</td>\n",
              "      <td>-8.037338e+01</td>\n",
              "      <td>7.640000e-01</td>\n",
              "      <td>9.567000e+03</td>\n",
              "      <td>7.600000e+01</td>\n",
              "      <td>7.600000e+01</td>\n",
              "      <td>8.300000e+01</td>\n",
              "      <td>3.001000e+01</td>\n",
              "      <td>1.000000e+01</td>\n",
              "      <td>1.000000e+01</td>\n",
              "      <td>0.000000e+00</td>\n",
              "    </tr>\n",
              "    <tr>\n",
              "      <th>max</th>\n",
              "      <td>4.000000e+00</td>\n",
              "      <td>4.900058e+01</td>\n",
              "      <td>-6.711317e+01</td>\n",
              "      <td>4.907500e+01</td>\n",
              "      <td>-6.710924e+01</td>\n",
              "      <td>1.551860e+02</td>\n",
              "      <td>9.999997e+06</td>\n",
              "      <td>1.960000e+02</td>\n",
              "      <td>1.960000e+02</td>\n",
              "      <td>1.000000e+02</td>\n",
              "      <td>5.890000e+01</td>\n",
              "      <td>1.400000e+02</td>\n",
              "      <td>1.087000e+03</td>\n",
              "      <td>2.400000e+01</td>\n",
              "    </tr>\n",
              "  </tbody>\n",
              "</table>\n",
              "</div>\n",
              "      <button class=\"colab-df-convert\" onclick=\"convertToInteractive('df-1e6c26b6-a049-4ef0-978d-98f0ec40e39b')\"\n",
              "              title=\"Convert this dataframe to an interactive table.\"\n",
              "              style=\"display:none;\">\n",
              "        \n",
              "  <svg xmlns=\"http://www.w3.org/2000/svg\" height=\"24px\"viewBox=\"0 0 24 24\"\n",
              "       width=\"24px\">\n",
              "    <path d=\"M0 0h24v24H0V0z\" fill=\"none\"/>\n",
              "    <path d=\"M18.56 5.44l.94 2.06.94-2.06 2.06-.94-2.06-.94-.94-2.06-.94 2.06-2.06.94zm-11 1L8.5 8.5l.94-2.06 2.06-.94-2.06-.94L8.5 2.5l-.94 2.06-2.06.94zm10 10l.94 2.06.94-2.06 2.06-.94-2.06-.94-.94-2.06-.94 2.06-2.06.94z\"/><path d=\"M17.41 7.96l-1.37-1.37c-.4-.4-.92-.59-1.43-.59-.52 0-1.04.2-1.43.59L10.3 9.45l-7.72 7.72c-.78.78-.78 2.05 0 2.83L4 21.41c.39.39.9.59 1.41.59.51 0 1.02-.2 1.41-.59l7.78-7.78 2.81-2.81c.8-.78.8-2.07 0-2.86zM5.41 20L4 18.59l7.72-7.72 1.47 1.35L5.41 20z\"/>\n",
              "  </svg>\n",
              "      </button>\n",
              "      \n",
              "  <style>\n",
              "    .colab-df-container {\n",
              "      display:flex;\n",
              "      flex-wrap:wrap;\n",
              "      gap: 12px;\n",
              "    }\n",
              "\n",
              "    .colab-df-convert {\n",
              "      background-color: #E8F0FE;\n",
              "      border: none;\n",
              "      border-radius: 50%;\n",
              "      cursor: pointer;\n",
              "      display: none;\n",
              "      fill: #1967D2;\n",
              "      height: 32px;\n",
              "      padding: 0 0 0 0;\n",
              "      width: 32px;\n",
              "    }\n",
              "\n",
              "    .colab-df-convert:hover {\n",
              "      background-color: #E2EBFA;\n",
              "      box-shadow: 0px 1px 2px rgba(60, 64, 67, 0.3), 0px 1px 3px 1px rgba(60, 64, 67, 0.15);\n",
              "      fill: #174EA6;\n",
              "    }\n",
              "\n",
              "    [theme=dark] .colab-df-convert {\n",
              "      background-color: #3B4455;\n",
              "      fill: #D2E3FC;\n",
              "    }\n",
              "\n",
              "    [theme=dark] .colab-df-convert:hover {\n",
              "      background-color: #434B5C;\n",
              "      box-shadow: 0px 1px 3px 1px rgba(0, 0, 0, 0.15);\n",
              "      filter: drop-shadow(0px 1px 2px rgba(0, 0, 0, 0.3));\n",
              "      fill: #FFFFFF;\n",
              "    }\n",
              "  </style>\n",
              "\n",
              "      <script>\n",
              "        const buttonEl =\n",
              "          document.querySelector('#df-1e6c26b6-a049-4ef0-978d-98f0ec40e39b button.colab-df-convert');\n",
              "        buttonEl.style.display =\n",
              "          google.colab.kernel.accessAllowed ? 'block' : 'none';\n",
              "\n",
              "        async function convertToInteractive(key) {\n",
              "          const element = document.querySelector('#df-1e6c26b6-a049-4ef0-978d-98f0ec40e39b');\n",
              "          const dataTable =\n",
              "            await google.colab.kernel.invokeFunction('convertToInteractive',\n",
              "                                                     [key], {});\n",
              "          if (!dataTable) return;\n",
              "\n",
              "          const docLinkHtml = 'Like what you see? Visit the ' +\n",
              "            '<a target=\"_blank\" href=https://colab.research.google.com/notebooks/data_table.ipynb>data table notebook</a>'\n",
              "            + ' to learn more about interactive tables.';\n",
              "          element.innerHTML = '';\n",
              "          dataTable['output_type'] = 'display_data';\n",
              "          await google.colab.output.renderOutput(dataTable, element);\n",
              "          const docLink = document.createElement('div');\n",
              "          docLink.innerHTML = docLinkHtml;\n",
              "          element.appendChild(docLink);\n",
              "        }\n",
              "      </script>\n",
              "    </div>\n",
              "  </div>\n",
              "  "
            ]
          },
          "metadata": {},
          "execution_count": 9
        }
      ]
    },
    {
      "cell_type": "code",
      "source": [
        "numerics = ['int16', 'int32', 'int64', 'float16', 'float32', 'float64']\n",
        "\n",
        "numeric_df = df.select_dtypes(include=numerics)\n",
        "len(numeric_df.columns)"
      ],
      "metadata": {
        "colab": {
          "base_uri": "https://localhost:8080/"
        },
        "id": "iBeEL3r3Wgjq",
        "outputId": "db196670-96ad-4fa3-b9fd-1b736f71b822"
      },
      "execution_count": null,
      "outputs": [
        {
          "output_type": "execute_result",
          "data": {
            "text/plain": [
              "14"
            ]
          },
          "metadata": {},
          "execution_count": 10
        }
      ]
    },
    {
      "cell_type": "markdown",
      "source": [
        "Percentage of missing values per column"
      ],
      "metadata": {
        "id": "3dq02wgAXaFb"
      }
    },
    {
      "cell_type": "code",
      "source": [
        "missing_percentages = df.isna().sum().sort_values(ascending=False) /len(df)\n",
        "missing_percentages"
      ],
      "metadata": {
        "colab": {
          "base_uri": "https://localhost:8080/"
        },
        "id": "EAiy5Ep5W7lw",
        "outputId": "75aceabd-5264-4d67-ee90-dc717e05e491"
      },
      "execution_count": null,
      "outputs": [
        {
          "output_type": "execute_result",
          "data": {
            "text/plain": [
              "Number                   6.129003e-01\n",
              "Precipitation(in)        1.931079e-01\n",
              "Wind_Chill(F)            1.650568e-01\n",
              "Wind_Speed(mph)          5.550967e-02\n",
              "Wind_Direction           2.592834e-02\n",
              "Humidity(%)              2.568830e-02\n",
              "Weather_Condition        2.482514e-02\n",
              "Visibility(mi)           2.479350e-02\n",
              "Temperature(F)           2.434646e-02\n",
              "Pressure(in)             2.080593e-02\n",
              "Weather_Timestamp        1.783125e-02\n",
              "Airport_Code             3.356011e-03\n",
              "Timezone                 1.285961e-03\n",
              "Nautical_Twilight        1.007612e-03\n",
              "Civil_Twilight           1.007612e-03\n",
              "Sunrise_Sunset           1.007612e-03\n",
              "Astronomical_Twilight    1.007612e-03\n",
              "Zipcode                  4.635647e-04\n",
              "City                     4.814887e-05\n",
              "Street                   7.029032e-07\n",
              "Country                  0.000000e+00\n",
              "Junction                 0.000000e+00\n",
              "Start_Time               0.000000e+00\n",
              "End_Time                 0.000000e+00\n",
              "Start_Lat                0.000000e+00\n",
              "Turning_Loop             0.000000e+00\n",
              "Traffic_Signal           0.000000e+00\n",
              "Traffic_Calming          0.000000e+00\n",
              "Stop                     0.000000e+00\n",
              "Station                  0.000000e+00\n",
              "Roundabout               0.000000e+00\n",
              "Railway                  0.000000e+00\n",
              "No_Exit                  0.000000e+00\n",
              "Crossing                 0.000000e+00\n",
              "Give_Way                 0.000000e+00\n",
              "Bump                     0.000000e+00\n",
              "Amenity                  0.000000e+00\n",
              "Start_Lng                0.000000e+00\n",
              "End_Lat                  0.000000e+00\n",
              "End_Lng                  0.000000e+00\n",
              "Distance(mi)             0.000000e+00\n",
              "Description              0.000000e+00\n",
              "Severity                 0.000000e+00\n",
              "Side                     0.000000e+00\n",
              "County                   0.000000e+00\n",
              "State                    0.000000e+00\n",
              "ID                       0.000000e+00\n",
              "dtype: float64"
            ]
          },
          "metadata": {},
          "execution_count": 11
        }
      ]
    },
    {
      "cell_type": "code",
      "source": [
        "type(missing_percentages)"
      ],
      "metadata": {
        "colab": {
          "base_uri": "https://localhost:8080/"
        },
        "id": "J_ymdZBBY7Mg",
        "outputId": "737bc358-78a3-4009-91fe-a5c3f8cc7e18"
      },
      "execution_count": null,
      "outputs": [
        {
          "output_type": "execute_result",
          "data": {
            "text/plain": [
              "pandas.core.series.Series"
            ]
          },
          "metadata": {},
          "execution_count": 12
        }
      ]
    },
    {
      "cell_type": "code",
      "source": [
        "missing_percentages[missing_percentages != 0].plot(kind='barh')"
      ],
      "metadata": {
        "colab": {
          "base_uri": "https://localhost:8080/",
          "height": 282
        },
        "id": "VzMVyYGiY04p",
        "outputId": "a386b600-ad26-4532-abe6-833a3450e539"
      },
      "execution_count": null,
      "outputs": [
        {
          "output_type": "execute_result",
          "data": {
            "text/plain": [
              "<matplotlib.axes._subplots.AxesSubplot at 0x7f3886962510>"
            ]
          },
          "metadata": {},
          "execution_count": 13
        },
        {
          "output_type": "display_data",
          "data": {
            "text/plain": [
              "<Figure size 432x288 with 1 Axes>"
            ],
            "image/png": "[encoded data removed]"
          },
          "metadata": {
            "needs_background": "light"
          }
        }
      ]
    },
    {
      "cell_type": "markdown",
      "source": [
        "Remove columns that you don't want to use"
      ],
      "metadata": {
        "id": "sAn7SjWCalSa"
      }
    },
    {
      "cell_type": "code",
      "source": [
        ""
      ],
      "metadata": {
        "id": "rdzMIrxjZJ9b"
      },
      "execution_count": null,
      "outputs": []
    },
    {
      "cell_type": "markdown",
      "source": [
        "##Exploratatory Analusis and Visulization\n",
        "\n",
        "Coulumns we'll analyze:\n",
        "\n",
        "1. City\n",
        "2. Start Time\n",
        "3. Start Lat, Start Lng \n",
        "4. Temerature\n",
        "5. Weather Condition\n",
        "\n",
        "\n"
      ],
      "metadata": {
        "id": "drdsHSEHJaiM"
      }
    },
    {
      "cell_type": "code",
      "source": [
        "df.columns"
      ],
      "metadata": {
        "colab": {
          "base_uri": "https://localhost:8080/"
        },
        "id": "vqBAXCNWa3SL",
        "outputId": "0b1ae894-59a6-4a9f-96b6-7aa62804ca92"
      },
      "execution_count": null,
      "outputs": [
        {
          "output_type": "execute_result",
          "data": {
            "text/plain": [
              "Index(['ID', 'Severity', 'Start_Time', 'End_Time', 'Start_Lat', 'Start_Lng',\n",
              "       'End_Lat', 'End_Lng', 'Distance(mi)', 'Description', 'Number', 'Street',\n",
              "       'Side', 'City', 'County', 'State', 'Zipcode', 'Country', 'Timezone',\n",
              "       'Airport_Code', 'Weather_Timestamp', 'Temperature(F)', 'Wind_Chill(F)',\n",
              "       'Humidity(%)', 'Pressure(in)', 'Visibility(mi)', 'Wind_Direction',\n",
              "       'Wind_Speed(mph)', 'Precipitation(in)', 'Weather_Condition', 'Amenity',\n",
              "       'Bump', 'Crossing', 'Give_Way', 'Junction', 'No_Exit', 'Railway',\n",
              "       'Roundabout', 'Station', 'Stop', 'Traffic_Calming', 'Traffic_Signal',\n",
              "       'Turning_Loop', 'Sunrise_Sunset', 'Civil_Twilight', 'Nautical_Twilight',\n",
              "       'Astronomical_Twilight'],\n",
              "      dtype='object')"
            ]
          },
          "metadata": {},
          "execution_count": 14
        }
      ]
    },
    {
      "cell_type": "markdown",
      "source": [
        "### City"
      ],
      "metadata": {
        "id": "qJuocQfqfMZS"
      }
    },
    {
      "cell_type": "code",
      "source": [
        "df.City"
      ],
      "metadata": {
        "colab": {
          "base_uri": "https://localhost:8080/"
        },
        "id": "7U3yQ1G3fLJr",
        "outputId": "884985ba-07c8-4c4f-b899-7539598736f3"
      },
      "execution_count": null,
      "outputs": [
        {
          "output_type": "execute_result",
          "data": {
            "text/plain": [
              "0               Dublin\n",
              "1               Dayton\n",
              "2           Cincinnati\n",
              "3                Akron\n",
              "4           Cincinnati\n",
              "              ...     \n",
              "2845337      Riverside\n",
              "2845338      San Diego\n",
              "2845339         Orange\n",
              "2845340    Culver City\n",
              "2845341       Highland\n",
              "Name: City, Length: 2845342, dtype: object"
            ]
          },
          "metadata": {},
          "execution_count": 15
        }
      ]
    },
    {
      "cell_type": "code",
      "source": [
        "cities = df.City.unique()\n",
        "len(cities)"
      ],
      "metadata": {
        "colab": {
          "base_uri": "https://localhost:8080/"
        },
        "id": "tJToiK-Na3C0",
        "outputId": "adff9f66-8b2c-43f8-d6bb-bfe889eff9b0"
      },
      "execution_count": null,
      "outputs": [
        {
          "output_type": "execute_result",
          "data": {
            "text/plain": [
              "11682"
            ]
          },
          "metadata": {},
          "execution_count": 16
        }
      ]
    },
    {
      "cell_type": "code",
      "source": [
        "cities_by_accident = df.City.value_counts()\n",
        "cities_by_accident"
      ],
      "metadata": {
        "colab": {
          "base_uri": "https://localhost:8080/"
        },
        "id": "7VvVABvNa24I",
        "outputId": "7158747e-3760-4435-b32e-11a30ad4aeee"
      },
      "execution_count": null,
      "outputs": [
        {
          "output_type": "execute_result",
          "data": {
            "text/plain": [
              "Miami                           106966\n",
              "Los Angeles                      68956\n",
              "Orlando                          54691\n",
              "Dallas                           41979\n",
              "Houston                          39448\n",
              "                                 ...  \n",
              "Ridgedale                            1\n",
              "Sekiu                                1\n",
              "Wooldridge                           1\n",
              "Bullock                              1\n",
              "American Fork-Pleasant Grove         1\n",
              "Name: City, Length: 11681, dtype: int64"
            ]
          },
          "metadata": {},
          "execution_count": 17
        }
      ]
    },
    {
      "cell_type": "code",
      "source": [
        "cities_by_accident[ :20]"
      ],
      "metadata": {
        "colab": {
          "base_uri": "https://localhost:8080/"
        },
        "id": "W8OQ0B6Aa2iv",
        "outputId": "dcabf1d5-2ac2-44f0-c9ea-232e91f771b9"
      },
      "execution_count": null,
      "outputs": [
        {
          "output_type": "execute_result",
          "data": {
            "text/plain": [
              "Miami           106966\n",
              "Los Angeles      68956\n",
              "Orlando          54691\n",
              "Dallas           41979\n",
              "Houston          39448\n",
              "Charlotte        33152\n",
              "Sacramento       32559\n",
              "San Diego        26627\n",
              "Raleigh          22840\n",
              "Minneapolis      22768\n",
              "Portland         20944\n",
              "Nashville        20267\n",
              "Austin           18301\n",
              "Baton Rouge      18182\n",
              "Phoenix          17143\n",
              "Saint Paul       16869\n",
              "New Orleans      16251\n",
              "Atlanta          15622\n",
              "Jacksonville     14967\n",
              "Richmond         14349\n",
              "Name: City, dtype: int64"
            ]
          },
          "metadata": {},
          "execution_count": 18
        }
      ]
    },
    {
      "cell_type": "code",
      "source": [
        "type(cities_by_accident)"
      ],
      "metadata": {
        "colab": {
          "base_uri": "https://localhost:8080/"
        },
        "id": "ZbnZ48kLzzby",
        "outputId": "31ec23f0-7fcd-4923-9a2b-673898744751"
      },
      "execution_count": null,
      "outputs": [
        {
          "output_type": "execute_result",
          "data": {
            "text/plain": [
              "pandas.core.series.Series"
            ]
          },
          "metadata": {},
          "execution_count": 19
        }
      ]
    },
    {
      "cell_type": "code",
      "source": [
        "cities_by_accident[ :20].plot(kind='barh')"
      ],
      "metadata": {
        "colab": {
          "base_uri": "https://localhost:8080/",
          "height": 282
        },
        "id": "o7UD0zrRxkrq",
        "outputId": "bf9d77f6-96c4-49ea-9cf6-ff8e33dbac3e"
      },
      "execution_count": null,
      "outputs": [
        {
          "output_type": "execute_result",
          "data": {
            "text/plain": [
              "<matplotlib.axes._subplots.AxesSubplot at 0x7f38d14d9f50>"
            ]
          },
          "metadata": {},
          "execution_count": 20
        },
        {
          "output_type": "display_data",
          "data": {
            "text/plain": [
              "<Figure size 432x288 with 1 Axes>"
            ],
            "image/png": "[encoded data removed]"
          },
          "metadata": {
            "needs_background": "light"
          }
        }
      ]
    },
    {
      "cell_type": "code",
      "source": [
        "import seaborn as sns\n",
        "sns.set_style(\"darkgrid\")"
      ],
      "metadata": {
        "id": "eZInA2yhxke1"
      },
      "execution_count": null,
      "outputs": []
    },
    {
      "cell_type": "code",
      "source": [
        "sns.histplot(cities_by_accident, log_scale=True)"
      ],
      "metadata": {
        "colab": {
          "base_uri": "https://localhost:8080/",
          "height": 300
        },
        "id": "VmHbDMf1xkSF",
        "outputId": "571e53b7-3997-4d7a-c1f0-785bae2b0d21"
      },
      "execution_count": null,
      "outputs": [
        {
          "output_type": "execute_result",
          "data": {
            "text/plain": [
              "<matplotlib.axes._subplots.AxesSubplot at 0x7f3871730090>"
            ]
          },
          "metadata": {},
          "execution_count": 22
        },
        {
          "output_type": "display_data",
          "data": {
            "text/plain": [
              "<Figure size 432x288 with 1 Axes>"
            ],
            "image/png": "[encoded data removed]"
          },
          "metadata": {}
        }
      ]
    },
    {
      "cell_type": "markdown",
      "source": [
        "### Start time"
      ],
      "metadata": {
        "id": "Rn50lOHWZ_MS"
      }
    },
    {
      "cell_type": "code",
      "source": [
        "df.Start_Time"
      ],
      "metadata": {
        "colab": {
          "base_uri": "https://localhost:8080/"
        },
        "id": "r4FZqgwtZ9MO",
        "outputId": "2d4ae4e1-cdfb-489f-af94-f8361231a7a5"
      },
      "execution_count": null,
      "outputs": [
        {
          "output_type": "execute_result",
          "data": {
            "text/plain": [
              "0          2016-02-08 00:37:08\n",
              "1          2016-02-08 05:56:20\n",
              "2          2016-02-08 06:15:39\n",
              "3          2016-02-08 06:51:45\n",
              "4          2016-02-08 07:53:43\n",
              "                  ...         \n",
              "2845337    2019-08-23 18:03:25\n",
              "2845338    2019-08-23 19:11:30\n",
              "2845339    2019-08-23 19:00:21\n",
              "2845340    2019-08-23 19:00:21\n",
              "2845341    2019-08-23 18:52:06\n",
              "Name: Start_Time, Length: 2845342, dtype: object"
            ]
          },
          "metadata": {},
          "execution_count": 23
        }
      ]
    },
    {
      "cell_type": "code",
      "source": [
        "df.Start_Time = pd.to_datetime(df.Start_Time)"
      ],
      "metadata": {
        "id": "Yxei74dBfv_4"
      },
      "execution_count": null,
      "outputs": []
    },
    {
      "cell_type": "markdown",
      "source": [
        "figre  out hoe to shoe percentages."
      ],
      "metadata": {
        "id": "LpH-UDqymJKQ"
      }
    },
    {
      "cell_type": "code",
      "source": [
        "sns.distplot(df.Start_Time.dt.hour,bins = 24, kde=False, norm_hist= True)"
      ],
      "metadata": {
        "colab": {
          "base_uri": "https://localhost:8080/",
          "height": 352
        },
        "id": "t1R_rYKbg8IA",
        "outputId": "cf32c3a8-a906-4435-e567-a8269a0b349a"
      },
      "execution_count": null,
      "outputs": [
        {
          "output_type": "stream",
          "name": "stderr",
          "text": [
            "/usr/local/lib/python3.7/dist-packages/seaborn/distributions.py:2619: FutureWarning: `distplot` is a deprecated function and will be removed in a future version. Please adapt your code to use either `displot` (a figure-level function with similar flexibility) or `histplot` (an axes-level function for histograms).\n",
            "  warnings.warn(msg, FutureWarning)\n"
          ]
        },
        {
          "output_type": "execute_result",
          "data": {
            "text/plain": [
              "<matplotlib.axes._subplots.AxesSubplot at 0x7f387138e550>"
            ]
          },
          "metadata": {},
          "execution_count": 25
        },
        {
          "output_type": "display_data",
          "data": {
            "text/plain": [
              "<Figure size 432x288 with 1 Axes>"
            ],
            "image/png": "[encoded data removed]"
          },
          "metadata": {}
        }
      ]
    },
    {
      "cell_type": "markdown",
      "source": [
        "- A high percentage of accidents occur between 6 am to 10 am (probably people in a hurry to get to work)\n",
        "- Next highest percentage is 3 pm to 6 pm.\n"
      ],
      "metadata": {
        "id": "r-WyPY_uoNf0"
      }
    },
    {
      "cell_type": "code",
      "source": [
        "sns.distplot(df.Start_Time.dt.dayofweek,bins = 7, kde=False, norm_hist= True)"
      ],
      "metadata": {
        "colab": {
          "base_uri": "https://localhost:8080/",
          "height": 352
        },
        "id": "iA6NjcBWjMAb",
        "outputId": "d46d1987-f47b-41c0-a70e-ad0baa389f6e"
      },
      "execution_count": null,
      "outputs": [
        {
          "output_type": "stream",
          "name": "stderr",
          "text": [
            "/usr/local/lib/python3.7/dist-packages/seaborn/distributions.py:2619: FutureWarning: `distplot` is a deprecated function and will be removed in a future version. Please adapt your code to use either `displot` (a figure-level function with similar flexibility) or `histplot` (an axes-level function for histograms).\n",
            "  warnings.warn(msg, FutureWarning)\n"
          ]
        },
        {
          "output_type": "execute_result",
          "data": {
            "text/plain": [
              "<matplotlib.axes._subplots.AxesSubplot at 0x7f387135d510>"
            ]
          },
          "metadata": {},
          "execution_count": 26
        },
        {
          "output_type": "display_data",
          "data": {
            "text/plain": [
              "<Figure size 432x288 with 1 Axes>"
            ],
            "image/png": "[encoded data removed]"
          },
          "metadata": {}
        }
      ]
    },
    {
      "cell_type": "markdown",
      "source": [
        "Is the distribution of accidents by hour the same on weekends as on wednesdays."
      ],
      "metadata": {
        "id": "EUB53UYTt1io"
      }
    },
    {
      "cell_type": "code",
      "source": [
        "sundays_start_time = df.Start_Time[df.Start_Time.dt.dayofweek==6]\n",
        "sns.distplot(sundays_start_time.dt.hour,bins = 24, kde=False, norm_hist= True)"
      ],
      "metadata": {
        "colab": {
          "base_uri": "https://localhost:8080/",
          "height": 352
        },
        "id": "FFaa00LojOSF",
        "outputId": "53322091-eac4-4320-a613-5c0cafaa9309"
      },
      "execution_count": null,
      "outputs": [
        {
          "output_type": "stream",
          "name": "stderr",
          "text": [
            "/usr/local/lib/python3.7/dist-packages/seaborn/distributions.py:2619: FutureWarning: `distplot` is a deprecated function and will be removed in a future version. Please adapt your code to use either `displot` (a figure-level function with similar flexibility) or `histplot` (an axes-level function for histograms).\n",
            "  warnings.warn(msg, FutureWarning)\n"
          ]
        },
        {
          "output_type": "execute_result",
          "data": {
            "text/plain": [
              "<matplotlib.axes._subplots.AxesSubplot at 0x7f387e2957d0>"
            ]
          },
          "metadata": {},
          "execution_count": 27
        },
        {
          "output_type": "display_data",
          "data": {
            "text/plain": [
              "<Figure size 432x288 with 1 Axes>"
            ],
            "image/png": "[encoded data removed]"
          },
          "metadata": {}
        }
      ]
    },
    {
      "cell_type": "code",
      "source": [
        "monday_start_time = df.Start_Time[df.Start_Time.dt.dayofweek==0]\n",
        "sns.distplot(monday_start_time.dt.hour,bins = 24, kde=False, norm_hist= True)"
      ],
      "metadata": {
        "colab": {
          "base_uri": "https://localhost:8080/",
          "height": 352
        },
        "id": "2BLCC8MUjOOZ",
        "outputId": "8ca22e47-51b7-4940-8815-b601ee793e86"
      },
      "execution_count": null,
      "outputs": [
        {
          "output_type": "stream",
          "name": "stderr",
          "text": [
            "/usr/local/lib/python3.7/dist-packages/seaborn/distributions.py:2619: FutureWarning: `distplot` is a deprecated function and will be removed in a future version. Please adapt your code to use either `displot` (a figure-level function with similar flexibility) or `histplot` (an axes-level function for histograms).\n",
            "  warnings.warn(msg, FutureWarning)\n"
          ]
        },
        {
          "output_type": "execute_result",
          "data": {
            "text/plain": [
              "<matplotlib.axes._subplots.AxesSubplot at 0x7f38712ed250>"
            ]
          },
          "metadata": {},
          "execution_count": 28
        },
        {
          "output_type": "display_data",
          "data": {
            "text/plain": [
              "<Figure size 432x288 with 1 Axes>"
            ],
            "image/png": "[encoded data removed]"
          },
          "metadata": {}
        }
      ]
    },
    {
      "cell_type": "markdown",
      "source": [
        "on sunday , the peak occurs between 10 am and 3 pm, unlike weekdays."
      ],
      "metadata": {
        "id": "p3okDyo4x4l2"
      }
    },
    {
      "cell_type": "code",
      "source": [
        "df_2019 = df[df.Start_Time.dt.year == 2019] \n",
        "sns.distplot(df_2019.Start_Time.dt.month, bins=12, kde=False, norm_hist = True)"
      ],
      "metadata": {
        "colab": {
          "base_uri": "https://localhost:8080/",
          "height": 352
        },
        "id": "G9Bel5pNIObK",
        "outputId": "9dff1f52-7c33-4e1d-e254-4004be900788"
      },
      "execution_count": null,
      "outputs": [
        {
          "output_type": "stream",
          "name": "stderr",
          "text": [
            "/usr/local/lib/python3.7/dist-packages/seaborn/distributions.py:2619: FutureWarning: `distplot` is a deprecated function and will be removed in a future version. Please adapt your code to use either `displot` (a figure-level function with similar flexibility) or `histplot` (an axes-level function for histograms).\n",
            "  warnings.warn(msg, FutureWarning)\n"
          ]
        },
        {
          "output_type": "execute_result",
          "data": {
            "text/plain": [
              "<matplotlib.axes._subplots.AxesSubplot at 0x7f387128cf10>"
            ]
          },
          "metadata": {},
          "execution_count": 29
        },
        {
          "output_type": "display_data",
          "data": {
            "text/plain": [
              "<Figure size 432x288 with 1 Axes>"
            ],
            "image/png": "[encoded data removed]"
          },
          "metadata": {}
        }
      ]
    },
    {
      "cell_type": "markdown",
      "source": [
        "this trend is due to fog in winters.\n",
        "- much data is missing for 2016.Maybe even 2017."
      ],
      "metadata": {
        "id": "VSCrGqI-WLdX"
      }
    },
    {
      "cell_type": "code",
      "source": [
        "cities_by_accident[cities_by_accident == 1]"
      ],
      "metadata": {
        "colab": {
          "base_uri": "https://localhost:8080/"
        },
        "id": "snDwkVk8XzYZ",
        "outputId": "bfdd1afe-7469-49d9-e5d2-74c46bab84a5"
      },
      "execution_count": null,
      "outputs": [
        {
          "output_type": "execute_result",
          "data": {
            "text/plain": [
              "Carney                          1\n",
              "Waverly Hall                    1\n",
              "Center Sandwich                 1\n",
              "Glen Flora                      1\n",
              "Sulphur Springs                 1\n",
              "                               ..\n",
              "Ridgedale                       1\n",
              "Sekiu                           1\n",
              "Wooldridge                      1\n",
              "Bullock                         1\n",
              "American Fork-Pleasant Grove    1\n",
              "Name: City, Length: 1110, dtype: int64"
            ]
          },
          "metadata": {},
          "execution_count": 30
        }
      ]
    },
    {
      "cell_type": "code",
      "source": [
        "high_accident_cities = cities_by_accident[cities_by_accident >= 1000]\n",
        "low_accident_cities = cities_by_accident[cities_by_accident < 1000]"
      ],
      "metadata": {
        "id": "IaHDPG0YxkFO"
      },
      "execution_count": null,
      "outputs": []
    },
    {
      "cell_type": "code",
      "source": [
        "len(high_accident_cities)/ len(cities)"
      ],
      "metadata": {
        "colab": {
          "base_uri": "https://localhost:8080/"
        },
        "id": "tG3A4tnqUPJj",
        "outputId": "a8bd1f46-ac58-4ba2-a7a5-ede1b1631816"
      },
      "execution_count": null,
      "outputs": [
        {
          "output_type": "execute_result",
          "data": {
            "text/plain": [
              "0.04245848313644924"
            ]
          },
          "metadata": {},
          "execution_count": 32
        }
      ]
    },
    {
      "cell_type": "code",
      "source": [
        "sns.distplot(high_accident_cities)"
      ],
      "metadata": {
        "colab": {
          "base_uri": "https://localhost:8080/",
          "height": 351
        },
        "id": "hNDMtLzHVATR",
        "outputId": "eea7772f-85ac-45c9-fc2e-ec0e3e02998b"
      },
      "execution_count": null,
      "outputs": [
        {
          "output_type": "stream",
          "name": "stderr",
          "text": [
            "/usr/local/lib/python3.7/dist-packages/seaborn/distributions.py:2619: FutureWarning: `distplot` is a deprecated function and will be removed in a future version. Please adapt your code to use either `displot` (a figure-level function with similar flexibility) or `histplot` (an axes-level function for histograms).\n",
            "  warnings.warn(msg, FutureWarning)\n"
          ]
        },
        {
          "output_type": "execute_result",
          "data": {
            "text/plain": [
              "<matplotlib.axes._subplots.AxesSubplot at 0x7f38711b3850>"
            ]
          },
          "metadata": {},
          "execution_count": 33
        },
        {
          "output_type": "display_data",
          "data": {
            "text/plain": [
              "<Figure size 432x288 with 1 Axes>"
            ],
            "image/png": "[encoded data removed]"
          },
          "metadata": {}
        }
      ]
    },
    {
      "cell_type": "code",
      "source": [
        "sns.distplot(low_accident_cities)"
      ],
      "metadata": {
        "colab": {
          "base_uri": "https://localhost:8080/",
          "height": 351
        },
        "id": "ATYHVnT2VQNS",
        "outputId": "fc09cf44-f28e-4f95-cbcf-0769e3aced47"
      },
      "execution_count": null,
      "outputs": [
        {
          "output_type": "stream",
          "name": "stderr",
          "text": [
            "/usr/local/lib/python3.7/dist-packages/seaborn/distributions.py:2619: FutureWarning: `distplot` is a deprecated function and will be removed in a future version. Please adapt your code to use either `displot` (a figure-level function with similar flexibility) or `histplot` (an axes-level function for histograms).\n",
            "  warnings.warn(msg, FutureWarning)\n"
          ]
        },
        {
          "output_type": "execute_result",
          "data": {
            "text/plain": [
              "<matplotlib.axes._subplots.AxesSubplot at 0x7f387104da50>"
            ]
          },
          "metadata": {},
          "execution_count": 34
        },
        {
          "output_type": "display_data",
          "data": {
            "text/plain": [
              "<Figure size 432x288 with 1 Axes>"
            ],
            "image/png": "[encoded data removed]"
          },
          "metadata": {}
        }
      ]
    },
    {
      "cell_type": "markdown",
      "source": [
        "### Start Lattitude & Longitude"
      ],
      "metadata": {
        "id": "cO2AemtghBDg"
      }
    },
    {
      "cell_type": "code",
      "source": [
        "df.Start_Lat"
      ],
      "metadata": {
        "colab": {
          "base_uri": "https://localhost:8080/"
        },
        "id": "UBubRzOyg-NP",
        "outputId": "51a145a5-99fe-4f78-e919-d726abe0cc73"
      },
      "execution_count": null,
      "outputs": [
        {
          "output_type": "execute_result",
          "data": {
            "text/plain": [
              "0          40.108910\n",
              "1          39.865420\n",
              "2          39.102660\n",
              "3          41.062130\n",
              "4          39.172393\n",
              "             ...    \n",
              "2845337    34.002480\n",
              "2845338    32.766960\n",
              "2845339    33.775450\n",
              "2845340    33.992460\n",
              "2845341    34.133930\n",
              "Name: Start_Lat, Length: 2845342, dtype: float64"
            ]
          },
          "metadata": {},
          "execution_count": 35
        }
      ]
    },
    {
      "cell_type": "code",
      "source": [
        "df.Start_Lng"
      ],
      "metadata": {
        "colab": {
          "base_uri": "https://localhost:8080/"
        },
        "id": "0yMEpssGg-Kg",
        "outputId": "fe28d423-8e9d-4d6f-adb4-83e0d2cddd3c"
      },
      "execution_count": null,
      "outputs": [
        {
          "output_type": "execute_result",
          "data": {
            "text/plain": [
              "0          -83.092860\n",
              "1          -84.062800\n",
              "2          -84.524680\n",
              "3          -81.537840\n",
              "4          -84.492792\n",
              "              ...    \n",
              "2845337   -117.379360\n",
              "2845338   -117.148060\n",
              "2845339   -117.847790\n",
              "2845340   -118.403020\n",
              "2845341   -117.230920\n",
              "Name: Start_Lng, Length: 2845342, dtype: float64"
            ]
          },
          "metadata": {},
          "execution_count": 36
        }
      ]
    },
    {
      "cell_type": "code",
      "source": [
        "sample_df = df.sample(int(0.1 * len(df)))"
      ],
      "metadata": {
        "id": "r1hg4qGeifCW"
      },
      "execution_count": null,
      "outputs": []
    },
    {
      "cell_type": "code",
      "source": [
        "sns.scatterplot(x=sample_df.Start_Lng, y=sample_df.Start_Lat, size=0.001)"
      ],
      "metadata": {
        "colab": {
          "base_uri": "https://localhost:8080/",
          "height": 300
        },
        "id": "xdFosFJ2g-Hx",
        "outputId": "afc7a119-c04d-4ab6-ea1a-17158bb4c304"
      },
      "execution_count": null,
      "outputs": [
        {
          "output_type": "execute_result",
          "data": {
            "text/plain": [
              "<matplotlib.axes._subplots.AxesSubplot at 0x7f386e76be50>"
            ]
          },
          "metadata": {},
          "execution_count": 38
        },
        {
          "output_type": "display_data",
          "data": {
            "text/plain": [
              "<Figure size 432x288 with 1 Axes>"
            ],
            "image/png": "[encoded data removed]"
          },
          "metadata": {}
        }
      ]
    },
    {
      "cell_type": "code",
      "source": [
        "import folium"
      ],
      "metadata": {
        "id": "SDmn9Wuvg-E3"
      },
      "execution_count": null,
      "outputs": []
    },
    {
      "cell_type": "code",
      "source": [
        "lat, lon = df.Start_Lat[0], df.Start_Lng[0]\n",
        "lat, lon"
      ],
      "metadata": {
        "colab": {
          "base_uri": "https://localhost:8080/"
        },
        "id": "XQw91y5vko5i",
        "outputId": "2364a0de-04c2-4f0c-d576-dec722686983"
      },
      "execution_count": null,
      "outputs": [
        {
          "output_type": "execute_result",
          "data": {
            "text/plain": [
              "(40.10891, -83.09286)"
            ]
          },
          "metadata": {},
          "execution_count": 40
        }
      ]
    },
    {
      "cell_type": "code",
      "source": [
        "for x in df[['Start_Lat', 'Start_Lng']].sample(100).iteritems():\n",
        "  print(x[1])"
      ],
      "metadata": {
        "colab": {
          "base_uri": "https://localhost:8080/"
        },
        "id": "XzNlavHDqOio",
        "outputId": "6f8ec63d-3e9c-489a-8825-4be8dd56c51f"
      },
      "execution_count": null,
      "outputs": [
        {
          "output_type": "stream",
          "name": "stdout",
          "text": [
            "2307240    37.046389\n",
            "910647     33.538494\n",
            "2642204    32.846560\n",
            "675600     30.426076\n",
            "2372591    37.149077\n",
            "             ...    \n",
            "340474     28.567091\n",
            "430756     35.343774\n",
            "439340     38.785847\n",
            "1368467    39.095967\n",
            "1933388    35.723464\n",
            "Name: Start_Lat, Length: 100, dtype: float64\n",
            "2307240   -121.277222\n",
            "910647    -112.191601\n",
            "2642204   -117.185820\n",
            "675600     -91.166209\n",
            "2372591   -121.648946\n",
            "              ...    \n",
            "340474     -81.311000\n",
            "430756     -92.078966\n",
            "439340     -77.327302\n",
            "1368467    -94.581108\n",
            "1933388    -78.533355\n",
            "Name: Start_Lng, Length: 100, dtype: float64\n"
          ]
        }
      ]
    },
    {
      "cell_type": "code",
      "source": [
        "zip(list(df.Start_Lat), list(df.Start_Lng))"
      ],
      "metadata": {
        "colab": {
          "base_uri": "https://localhost:8080/"
        },
        "id": "N7D6zkoIt8MM",
        "outputId": "7cb3a24d-080d-4e20-ccac-fd47fc0ef071"
      },
      "execution_count": null,
      "outputs": [
        {
          "output_type": "execute_result",
          "data": {
            "text/plain": [
              "<zip at 0x7f386d1981e0>"
            ]
          },
          "metadata": {},
          "execution_count": 42
        }
      ]
    },
    {
      "cell_type": "code",
      "source": [
        "from folium.plugins import HeatMap"
      ],
      "metadata": {
        "id": "f0F5_xzEtF3p"
      },
      "execution_count": null,
      "outputs": []
    },
    {
      "cell_type": "code",
      "source": [
        "sample_df = df.sample(int(0.001* len(df)))\n",
        "lat_lon_pairs = list(zip(list(sample_df.Start_Lat), list(sample_df.Start_Lng)))"
      ],
      "metadata": {
        "id": "OVD7ahc_vVfP"
      },
      "execution_count": null,
      "outputs": []
    },
    {
      "cell_type": "code",
      "source": [
        "map = folium.Map()\n",
        "HeatMap(lat_lon_pairs[ : 100]).add_to(map)\n",
        "map\n"
      ],
      "metadata": {
        "colab": {
          "base_uri": "https://localhost:8080/",
          "height": 394
        },
        "id": "S4MUQSmqXQI7",
        "outputId": "54bd5db7-f202-421e-c0d9-ac95f72e4653"
      },
      "execution_count": null,
      "outputs": [
        {
          "output_type": "execute_result",
          "data": {
            "text/plain": [
              "<folium.folium.Map at 0x7f386179e5d0>"
            ],
            "text/html": [
              "<div style=\"width:100%;\"><div style=\"position:relative;width:100%;height:0;padding-bottom:60%;\"><span style=\"color:#565656\">Make this Notebook Trusted to load map: File -> Trust Notebook</span><iframe srcdoc=\"&lt;!DOCTYPE html&gt;\n",
              "&lt;head&gt;    \n",
              "    &lt;meta http-equiv=&quot;content-type&quot; content=&quot;text/html; charset=UTF-8&quot; /&gt;\n",
              "    &lt;script&gt;L_PREFER_CANVAS=false; L_NO_TOUCH=false; L_DISABLE_3D=false;&lt;/script&gt;\n",
              "    &lt;script src=&quot;https://cdn.jsdelivr.net/npm/leaflet@1.4.0/dist/leaflet.js&quot;&gt;&lt;/script&gt;\n",
              "    &lt;script src=&quot;https://code.jquery.com/jquery-1.12.4.min.js&quot;&gt;&lt;/script&gt;\n",
              "    &lt;script src=&quot;https://maxcdn.bootstrapcdn.com/bootstrap/3.2.0/js/bootstrap.min.js&quot;&gt;&lt;/script&gt;\n",
              "    &lt;script src=&quot;https://cdnjs.cloudflare.com/ajax/libs/Leaflet.awesome-markers/2.0.2/leaflet.awesome-markers.js&quot;&gt;&lt;/script&gt;\n",
              "    &lt;link rel=&quot;stylesheet&quot; href=&quot;https://cdn.jsdelivr.net/npm/leaflet@1.4.0/dist/leaflet.css&quot;/&gt;\n",
              "    &lt;link rel=&quot;stylesheet&quot; href=&quot;https://maxcdn.bootstrapcdn.com/bootstrap/3.2.0/css/bootstrap.min.css&quot;/&gt;\n",
              "    &lt;link rel=&quot;stylesheet&quot; href=&quot;https://maxcdn.bootstrapcdn.com/bootstrap/3.2.0/css/bootstrap-theme.min.css&quot;/&gt;\n",
              "    &lt;link rel=&quot;stylesheet&quot; href=&quot;https://maxcdn.bootstrapcdn.com/font-awesome/4.6.3/css/font-awesome.min.css&quot;/&gt;\n",
              "    &lt;link rel=&quot;stylesheet&quot; href=&quot;https://cdnjs.cloudflare.com/ajax/libs/Leaflet.awesome-markers/2.0.2/leaflet.awesome-markers.css&quot;/&gt;\n",
              "    &lt;link rel=&quot;stylesheet&quot; href=&quot;https://rawcdn.githack.com/python-visualization/folium/master/folium/templates/leaflet.awesome.rotate.css&quot;/&gt;\n",
              "    &lt;style&gt;html, body {width: 100%;height: 100%;margin: 0;padding: 0;}&lt;/style&gt;\n",
              "    &lt;style&gt;#map {position:absolute;top:0;bottom:0;right:0;left:0;}&lt;/style&gt;\n",
              "    \n",
              "    &lt;meta name=&quot;viewport&quot; content=&quot;width=device-width,\n",
              "        initial-scale=1.0, maximum-scale=1.0, user-scalable=no&quot; /&gt;\n",
              "    &lt;style&gt;#map_3464e971cf4bec557bcab68f80641d57 {\n",
              "        position: relative;\n",
              "        width: 100.0%;\n",
              "        height: 100.0%;\n",
              "        left: 0.0%;\n",
              "        top: 0.0%;\n",
              "        }\n",
              "    &lt;/style&gt;\n",
              "    &lt;script src=&quot;https://leaflet.github.io/Leaflet.heat/dist/leaflet-heat.js&quot;&gt;&lt;/script&gt;\n",
              "&lt;/head&gt;\n",
              "&lt;body&gt;    \n",
              "    \n",
              "    &lt;div class=&quot;folium-map&quot; id=&quot;map_3464e971cf4bec557bcab68f80641d57&quot; &gt;&lt;/div&gt;\n",
              "&lt;/body&gt;\n",
              "&lt;script&gt;    \n",
              "    \n",
              "    \n",
              "        var bounds = null;\n",
              "    \n",
              "\n",
              "    var map_3464e971cf4bec557bcab68f80641d57 = L.map(\n",
              "        &#x27;map_3464e971cf4bec557bcab68f80641d57&#x27;, {\n",
              "        center: [0, 0],\n",
              "        zoom: 1,\n",
              "        maxBounds: bounds,\n",
              "        layers: [],\n",
              "        worldCopyJump: false,\n",
              "        crs: L.CRS.EPSG3857,\n",
              "        zoomControl: true,\n",
              "        });\n",
              "\n",
              "\n",
              "    \n",
              "    var tile_layer_5c19e2b1ec6d289d9e0ca27a593c0c50 = L.tileLayer(\n",
              "        &#x27;https://{s}.tile.openstreetmap.org/{z}/{x}/{y}.png&#x27;,\n",
              "        {\n",
              "        &quot;attribution&quot;: null,\n",
              "        &quot;detectRetina&quot;: false,\n",
              "        &quot;maxNativeZoom&quot;: 18,\n",
              "        &quot;maxZoom&quot;: 18,\n",
              "        &quot;minZoom&quot;: 0,\n",
              "        &quot;noWrap&quot;: false,\n",
              "        &quot;opacity&quot;: 1,\n",
              "        &quot;subdomains&quot;: &quot;abc&quot;,\n",
              "        &quot;tms&quot;: false\n",
              "}).addTo(map_3464e971cf4bec557bcab68f80641d57);\n",
              "    \n",
              "            var heat_map_3c937691e2103e914c1062f4642f51dc = L.heatLayer(\n",
              "                [[34.41055, -118.728468], [40.301204, -76.87059], [39.360187, -76.651377], [41.82874, -88.10542], [40.143998, -78.29647800000002], [38.672345, -77.246288], [44.961211, -93.090358], [42.33044, -87.83989], [39.033745, -77.072686], [34.23998, -119.182], [34.171092, -118.504859], [34.061055, -117.488788], [45.5304, -122.61497], [45.1087, -93.30116], [40.117144, -76.231981], [44.832918, -92.964472], [32.868326, -96.77032], [41.67291, -72.84514], [35.97118, -83.980017], [40.718089, -112.109352], [43.524563, -119.088282], [37.927978, -122.32287], [43.61953, -116.351918], [34.230777, -80.67134200000002], [44.023222, -117.005367], [40.845247, -73.913472], [32.777349, -117.136536], [44.768134, -93.974625], [39.914187, -104.98981100000002], [36.187724, -86.794411], [37.67511, -122.115184], [43.773318, -123.060168], [33.702117, -117.85827], [36.14052, -86.72365], [33.781768, -81.486786], [32.930609999999994, -80.68945], [34.072, -118.108098], [33.55292, -80.82582099999998], [35.733673, -78.789652], [37.656336, -122.101569], [40.734418, -73.92227], [28.416055, -81.474365], [33.640105, -112.08858899999998], [33.669952, -80.896164], [42.05057, -73.95724], [32.898934999999994, -117.218853], [34.039556, -81.093089], [34.11711, -117.97543], [35.2258, -80.86429], [39.78282, -86.1447], [39.67516, -74.311577], [28.194645, -82.390025], [30.443073, -91.057398], [38.70415, -120.676428], [40.10526, -77.42553000000002], [38.017974, -122.266749], [34.094097999999995, -117.294143], [40.75179, -111.56986], [41.016885, -73.636207], [29.619537, -95.033444], [35.202188, -80.759249], [28.486835, -81.41856999999997], [40.667556, -111.953355], [40.825464, -77.6883], [38.62520900000001, -121.383058], [33.38626, -111.811627], [34.114216, -118.335843], [45.598366, -111.166046], [25.928501, -80.176182], [42.234214, -121.581302], [40.618118, -74.177488], [28.329049, -82.324283], [41.964631, -88.099836], [34.770055, -82.58294000000002], [33.98431, -118.256441], [35.408593, -119.037013], [33.873602000000005, -118.214423], [45.67246, -111.006084], [28.573901, -81.19755699999997], [30.240165, -97.718683], [38.702526, -121.356876], [34.064296, -117.261618], [33.442681, -80.42229499999998], [34.148622, -118.054494], [32.24982, -110.96097], [28.452192, -81.400388], [29.042994, -82.163285], [35.151008000000004, -118.923531], [27.937624, -82.291133], [38.61876, -90.18538], [37.316426, -80.05079599999998], [34.17302, -118.30643], [40.210062, -75.333596], [35.61081, -78.80725799999998], [33.374938, -117.253632], [40.149187, -75.05809599999998], [25.78711400000001, -80.210988], [25.947281, -80.26944300000002], [34.043724, -118.169931], [43.63958, -122.17557]],\n",
              "                {\n",
              "                    minOpacity: 0.5,\n",
              "                    maxZoom: 18,\n",
              "                    max: 1.0,\n",
              "                    radius: 25,\n",
              "                    blur: 15,\n",
              "                    gradient: null\n",
              "                    })\n",
              "                .addTo(map_3464e971cf4bec557bcab68f80641d57);\n",
              "        \n",
              "&lt;/script&gt;\" style=\"position:absolute;width:100%;height:100%;left:0;top:0;border:none !important;\" allowfullscreen webkitallowfullscreen mozallowfullscreen></iframe></div></div>"
            ]
          },
          "metadata": {},
          "execution_count": 45
        }
      ]
    },
    {
      "cell_type": "code",
      "source": [
        "'NY' in df.State"
      ],
      "metadata": {
        "colab": {
          "base_uri": "https://localhost:8080/"
        },
        "id": "rwvKCAzGveSv",
        "outputId": "83fdf393-f74e-4195-b65f-a6e5101912f0"
      },
      "execution_count": null,
      "outputs": [
        {
          "output_type": "execute_result",
          "data": {
            "text/plain": [
              "False"
            ]
          },
          "metadata": {},
          "execution_count": 46
        }
      ]
    },
    {
      "cell_type": "markdown",
      "source": [
        "##Ask & answer question\n",
        "\n",
        "1. Are there more accidents in warmer or colder areas?\n",
        "2. Which 5 states have the highest number of accidents? How about per capita? \n",
        "3. Does New York have show up in tha data? If yes, why is the count lower if this tha most populated city.\n",
        "4. Among the top 100 cities in numbers of accidents, which states do they belong to most frequently.\n",
        "5.  What time of the day are accidents most frequent in? - ANSWERed\n",
        "6. Which day of the week have the most accidents?\n",
        "7. Which months have the most accidents?\n",
        "8. What is the trend of accidents year over year (decreasing/increasing)?\n",
        "9. When is accidents per unit of traffic the highest. "
      ],
      "metadata": {
        "id": "Q1g4oLIzJqUt"
      }
    },
    {
      "cell_type": "code",
      "source": [
        " "
      ],
      "metadata": {
        "id": "iorFAJbcJyNx"
      },
      "execution_count": null,
      "outputs": []
    },
    {
      "cell_type": "code",
      "source": [
        ""
      ],
      "metadata": {
        "id": "HLN1cWPZJWVy"
      },
      "execution_count": null,
      "outputs": []
    },
    {
      "cell_type": "markdown",
      "source": [
        "##Summary and Conclusion\n",
        "\n",
        "Insights:\n",
        "- No data from New York\n",
        "- The no of accidents per city decreases exponentially.\n",
        "- Less then 5% of cities have more than 1000yearly accidents.\n",
        "- Over 1200 cities have reported just one accident(need to investigate)\n",
        "\n"
      ],
      "metadata": {
        "id": "C_gB5MFsJ9gH"
      }
    },
    {
      "cell_type": "code",
      "source": [
        ""
      ],
      "metadata": {
        "id": "nqR9ua47KCAN"
      },
      "execution_count": null,
      "outputs": []
    },
    {
      "cell_type": "code",
      "source": [
        "import jovian"
      ],
      "metadata": {
        "id": "_i_8P0YqJ7Rc"
      },
      "execution_count": null,
      "outputs": []
    },
    {
      "cell_type": "code",
      "execution_count": null,
      "metadata": {
        "colab": {
          "base_uri": "https://localhost:8080/",
          "height": 107
        },
        "id": "F8gcH8MlHLFv",
        "outputId": "2b753943-6eb1-48bd-c2c9-092d4ca51be8"
      },
      "outputs": [
        {
          "output_type": "stream",
          "name": "stdout",
          "text": [
            "[jovian] Detected Colab notebook...\u001b[0m\n",
            "[jovian] Uploading colab notebook to Jovian...\u001b[0m\n",
            "Committed successfully! https://jovian.ai/aryangupta20/us-accident-exploratory-data-analysis\n"
          ]
        },
        {
          "output_type": "execute_result",
          "data": {
            "text/plain": [
              "'https://jovian.ai/aryangupta20/us-accident-exploratory-data-analysis'"
            ],
            "application/vnd.google.colaboratory.intrinsic+json": {
              "type": "string"
            }
          },
          "metadata": {},
          "execution_count": 56
        }
      ],
      "source": [
        "jovian.commit()"
      ]
    }
  ],
  "metadata": {
    "kernelspec": {
      "display_name": "Python 3",
      "language": "python",
      "name": "python3"
    },
    "language_info": {
      "codemirror_mode": {
        "name": "ipython",
        "version": 3
      },
      "file_extension": ".py",
      "mimetype": "text/x-python",
      "name": "python",
      "nbconvert_exporter": "python",
      "pygments_lexer": "ipython3",
      "version": "3.7.6"
    },
    "colab": {
      "name": "us.ipynb",
      "provenance": [],
      "collapsed_sections": [
        "5lhlCMvCIqlQ",
        "QVshfdt-JIF7",
        "Q1g4oLIzJqUt",
        "C_gB5MFsJ9gH"
      ],
      "include_colab_link": true
    }
  },
  "nbformat": 4,
  "nbformat_minor": 0
}